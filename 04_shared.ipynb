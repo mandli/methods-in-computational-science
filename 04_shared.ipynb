{
 "cells": [
  {
   "cell_type": "markdown",
   "metadata": {},
   "source": [
    "# Shared Memory Parallelism\n",
    "\n",
    "   - Shared memory\n",
    "     - Implementations\n",
    "       - Vectorization\n",
    "       - POSIX Threads\n",
    "       - PGAS\n",
    "       - OpenMP\n",
    "     - Forks and joins\n",
    "     - SoA or AoS\n",
    "     - Critical sections (locks)\n",
    "     - GPUs\n",
    "       - CUDA\n",
    "       - OpenCL\n",
    "       - OpenACC"
   ]
  },
  {
   "cell_type": "markdown",
   "metadata": {
    "slideshow": {
     "slide_type": "subslide"
    }
   },
   "source": [
    "### OpenMP\n",
    "\n",
    "OpenMP is defined by a set of *directives* that are put into code which on compilation a compiler can turn into multi-threaded code."
   ]
  },
  {
   "cell_type": "markdown",
   "metadata": {
    "slideshow": {
     "slide_type": "subslide"
    }
   },
   "source": [
    "Simple hello world from OpenMP.  Here we fetch the number of threads and print out the unique ID given to each.\n",
    "```fortran\n",
    "program hello_world_omp\n",
    "    \n",
    "    use omp_lib\n",
    "\n",
    "    implicit none\n",
    "    integer :: num_threads, thread_id\n",
    "\n",
    "    !$OMP parallel private(num_threads, thread_id)\n",
    "    !$ num_threads = omp_get_num_threads()\n",
    "    !$ thread_id = omp_get_thread_num()\n",
    "    print *, 'Hello from thread number', thread_id + 1, &\n",
    "             ' of ', num_threads, ' processes'\n",
    "\n",
    "    !$OMP end parallel\n",
    "\n",
    "end program hello_world_omp\n",
    "\n",
    "```"
   ]
  },
  {
   "cell_type": "markdown",
   "metadata": {
    "slideshow": {
     "slide_type": "subslide"
    }
   },
   "source": [
    "```fortran\n",
    "program yeval\n",
    "   \n",
    "   use omp_lib\n",
    "\n",
    "   implicit none\n",
    "\n",
    "   integer(kind=8), parameter :: n = 2**16\n",
    "   integer(kind=4) :: i, nthreads\n",
    "   real(kind=8), dimension(n) :: y\n",
    "   real(kind=8) :: dx, x\n",
    "\n",
    "   ! Specify number of threads to use:\n",
    "   !$ print *, \"How many threads to use? \"\n",
    "   !$ read *, nthreads\n",
    "   !$ call omp_set_num_threads(nthreads)\n",
    "   !$ print \"('Using OpenMP with ',i3,' threads')\", nthreads\n",
    "\n",
    "   dx = 1.d0 / (n+1.d0)\n",
    "\n",
    "   !$omp parallel do private(x) \n",
    "   do i=1, n\n",
    "      x = i * dx\n",
    "      y(i) = exp(x) * cos(x) * sin(x) * sqrt(5.d0 * x + 6.d0)\n",
    "   enddo\n",
    "   !$omp end parallel do\n",
    "\n",
    "   print *, \"Filled vector y of length\", n\n",
    "\n",
    "end program yeval\n",
    "```\n",
    "*Modified from amath 583 - R.J. LeVeque - http://faculty.washington.edu/rjl/classes/am583s2014/notes/openmp.html*"
   ]
  },
  {
   "cell_type": "markdown",
   "metadata": {
    "slideshow": {
     "slide_type": "subslide"
    }
   },
   "source": [
    "#### Fine-Grain vs. Coarse-Grain Parallelism\n",
    "\n",
    "Consider the problem of normalizing a vector which requires two steps:\n",
    "1. Compute the norm of the vector, and\n",
    "1. Divide each entry of the vector by the norm.\n",
    "\n",
    "Unfortunately we need to loop over every entry in the vector to compute the norm **before** we can perform the division of each entry.  There are two ways to tackle this problem,\n",
    " - Let the compiler decide what thread takes what entries (fine grain) - large number of small tasks\n",
    " - Let the programmer explicitly control which entries are handled by each thread (coarse grain) - small number of large tasks"
   ]
  },
  {
   "cell_type": "markdown",
   "metadata": {
    "slideshow": {
     "slide_type": "subslide"
    }
   },
   "source": [
    "```fortran\n",
    "program fine_grain\n",
    "   \n",
    "    use omp_lib\n",
    "    implicit none\n",
    "    integer :: i, thread_num\n",
    "    integer, parameter :: n = 1000\n",
    " \n",
    "    real(kind=8), dimension(n) :: x, y\n",
    "    real(kind=8) :: norm,ynorm\n",
    " \n",
    "    integer :: nthreads\n",
    "    \n",
    "    ! Specify number of threads to use:\n",
    "    nthreads = 1       ! need this value in serial mode\n",
    "    !$ nthreads = 4    \n",
    "    !$ call omp_set_num_threads(nthreads)\n",
    "    !$ print \"('Using OpenMP with ',i3,' threads')\", nthreads\n",
    "\n",
    "    ! Specify number of threads to use:\n",
    "    !$ call omp_set_num_threads(4)\n",
    " \n",
    "    ! initialize x:\n",
    "    !$omp parallel do \n",
    "    do i=1,n\n",
    "        x(i) = real(i, kind=8)  ! convert to double float\n",
    "    enddo\n",
    "\n",
    "    norm = 0.d0\n",
    "    ynorm = 0.d0\n",
    "\n",
    "    !$omp parallel private(i)\n",
    "\n",
    "    !$omp do reduction(+ : norm)\n",
    "    do i=1,n\n",
    "        norm = norm + abs(x(i))\n",
    "    enddo\n",
    "\n",
    "     !$omp barrier   ! not needed (implicit)\n",
    "\n",
    "    !$omp do reduction(+ : ynorm)\n",
    "    do i=1,n\n",
    "        y(i) = x(i) / norm\n",
    "        ynorm = ynorm + abs(y(i))\n",
    "    enddo\n",
    "    \n",
    "    !$omp end parallel\n",
    "\n",
    "    print *, \"norm of x = \",norm, \"  n(n+1)/2 = \",n*(n+1)/2\n",
    "    print *, 'ynorm should be 1.0:   ynorm = ', ynorm\n",
    "\n",
    "end program fine_grain\n",
    "\n",
    "```\n",
    "*Modified from amath 583 - R.J. LeVeque - http://faculty.washington.edu/rjl/classes/am583s2014/notes/openmp.html*"
   ]
  },
  {
   "cell_type": "markdown",
   "metadata": {
    "slideshow": {
     "slide_type": "subslide"
    }
   },
   "source": [
    "```fortran\n",
    "program coarse_grain\n",
    "    \n",
    "    use omp_lib\n",
    "    implicit none\n",
    "    integer, parameter :: n = 1000\n",
    "    real(kind=8), dimension(n) :: x,y\n",
    "    real(kind=8) :: norm,norm_thread,ynorm,ynorm_thread\n",
    "    integer :: nthreads, points_per_thread,thread_num\n",
    "    integer :: i,istart,iend\n",
    "\n",
    "    ! Specify number of threads to use:\n",
    "    nthreads = 1       ! need this value in serial mode\n",
    "    !$ nthreads = 4    \n",
    "    !$ call omp_set_num_threads(nthreads)\n",
    "    !$ print \"('Using OpenMP with ',i3,' threads')\", nthreads\n",
    "\n",
    "    ! Determine how many points to handle with each thread.\n",
    "    ! Note that dividing two integers and assigning to an integer will\n",
    "    ! round down if the result is not an integer.  \n",
    "    ! This, together with the min(...) in the definition of iend below,\n",
    "    ! insures that all points will get distributed to some thread.\n",
    "    points_per_thread = (n + nthreads - 1) / nthreads\n",
    "    print *, \"points_per_thread = \",points_per_thread\n",
    "\n",
    "    ! initialize x:\n",
    "    do i=1,n\n",
    "        x(i) = dble(i)  ! convert to double float\n",
    "        enddo\n",
    "\n",
    "    norm = 0.d0\n",
    "    ynorm = 0.d0\n",
    "\n",
    "    !$omp parallel private(i,norm_thread, &\n",
    "    !$omp                  istart,iend,thread_num,ynorm_thread) \n",
    "\n",
    "    thread_num = 0     ! needed in serial mode\n",
    "    !$ thread_num = omp_get_thread_num()    ! unique for each thread\n",
    "\n",
    "    ! Determine start and end index for the set of points to be \n",
    "    ! handled by this thread:\n",
    "    istart = thread_num * points_per_thread + 1\n",
    "    iend = min((thread_num+1) * points_per_thread, n)\n",
    "\n",
    "    !$omp critical\n",
    "    print \"(\"Thread \",i2,\" will take i = \",i6,\" through i = \",i6)\", thread_num, istart, iend\n",
    "    !$omp end critical\n",
    "\n",
    "    norm_thread = 0.d0\n",
    "    do i=istart,iend\n",
    "        norm_thread = norm_thread + abs(x(i))\n",
    "        enddo\n",
    "\n",
    "    ! update global norm with value from each thread:\n",
    "    !$omp critical\n",
    "      norm = norm + norm_thread\n",
    "      print *, \"norm updated to: \",norm\n",
    "    !$omp end critical\n",
    "\n",
    "    ! make sure all have updated norm before proceeding:\n",
    "    !$omp barrier\n",
    "\n",
    "    ynorm_thread = 0.d0\n",
    "    do i=istart,iend\n",
    "        y(i) = x(i) / norm\n",
    "        ynorm_thread = ynorm_thread + abs(y(i))\n",
    "        enddo\n",
    "\n",
    "    ! update global ynorm with value from each thread:\n",
    "    !$omp critical\n",
    "      ynorm = ynorm + ynorm_thread\n",
    "      print *, \"ynorm updated to: \",ynorm\n",
    "    !$omp end critical\n",
    "    !$omp barrier\n",
    "\n",
    "    !$omp end parallel \n",
    "\n",
    "    print *, \"norm of x = \",norm, \"  n(n+1)/2 = \",n*(n+1)/2\n",
    "    print *, 'ynorm should be 1.0:   ynorm = ', ynorm\n",
    "\n",
    "end program coarse_grain\n",
    "```\n",
    "*Modified from amath 583 - R.J. LeVeque - http://faculty.washington.edu/rjl/classes/am583s2014/notes/openmp.html*"
   ]
  }
 ],
 "metadata": {
  "kernelspec": {
   "display_name": "Python 3",
   "language": "python",
   "name": "python3"
  },
  "language_info": {
   "codemirror_mode": {
    "name": "ipython",
    "version": 3
   },
   "file_extension": ".py",
   "mimetype": "text/x-python",
   "name": "python",
   "nbconvert_exporter": "python",
   "pygments_lexer": "ipython3",
   "version": "3.8.5"
  }
 },
 "nbformat": 4,
 "nbformat_minor": 4
}
