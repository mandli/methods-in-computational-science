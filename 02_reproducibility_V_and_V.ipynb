{
 "cells": [
  {
   "cell_type": "markdown",
   "metadata": {
    "slideshow": {
     "slide_type": "slide"
    }
   },
   "source": [
    "# Reproducibility Verification, and Validation"
   ]
  },
  {
   "cell_type": "markdown",
   "metadata": {
    "slideshow": {
     "slide_type": "subslide"
    }
   },
   "source": [
    "Brief definitions...\n",
    "\n",
    "**Reproducibility**: Can someone reproduce a given result.\n",
    "\n",
    "**Verification**:  Can we verify that a code solves what it is supposed to, say a model set of equations.\n",
    "\n",
    "**Validation**:  Can the numerical model approximate reality."
   ]
  },
  {
   "cell_type": "markdown",
   "metadata": {
    "slideshow": {
     "slide_type": "slide"
    }
   },
   "source": [
    "## Reproducibility\n",
    "\n",
    "Can someone reproduce your results?"
   ]
  },
  {
   "cell_type": "markdown",
   "metadata": {
    "slideshow": {
     "slide_type": "subslide"
    }
   },
   "source": [
    "Levels of reproducibility:\n",
    " - Within numerical approximation, e.g. $\\mathcal{O}(\\Delta x)$\n",
    " - Within numerical precision (machine epsilon)\n",
    " - It is bit-wise reproducible "
   ]
  },
  {
   "cell_type": "markdown",
   "metadata": {
    "slideshow": {
     "slide_type": "subslide"
    }
   },
   "source": [
    "How do we achieve reproducibility:\n",
    " - Open source software\n",
    " - Open data\n",
    " - Libraries\n",
    " - Hardware\n",
    " - Containers\n",
    " - Testing"
   ]
  },
  {
   "cell_type": "markdown",
   "metadata": {
    "slideshow": {
     "slide_type": "subslide"
    }
   },
   "source": [
    "#### Testing\n",
    "\n",
    "**Types**\n",
    " - Unit testing\n",
    " - Regression testing\n",
    " \n",
    "**Tools**\n",
    " - Continuous integration services"
   ]
  },
  {
   "cell_type": "markdown",
   "metadata": {
    "slideshow": {
     "slide_type": "slide"
    }
   },
   "source": [
    "## Verification and Validation"
   ]
  },
  {
   "cell_type": "markdown",
   "metadata": {
    "slideshow": {
     "slide_type": "subslide"
    }
   },
   "source": [
    "#### Official Definitions\n",
    "\n",
    "**Software Validation**: The process of evaluating software during or at the end of the development process to determine whether it satisfies specified requirements. [IEEE-STD-610]\n",
    "\n",
    "**Software Verification**: The process of evaluating software to determine whether the products of a given development phase satisfy the conditions imposed at the start of that phase. [IEEE-STD-610]"
   ]
  },
  {
   "cell_type": "markdown",
   "metadata": {
    "slideshow": {
     "slide_type": "subslide"
    }
   },
   "source": [
    "#### Perhaps more relevant\n",
    "\n",
    "**Verification** is the process of determining that a computer model, simulation, or federation of models and simulations implementations and their associated data accurately represent the developer's conceptual description and specifications.\n",
    "\n",
    "**Validation** is the process of determining the degree to which a model, simulation, or federation of models and simulations, and their associated data are accurate representations of the real world from the perspective of the intended use(s)."
   ]
  },
  {
   "cell_type": "markdown",
   "metadata": {
    "slideshow": {
     "slide_type": "subslide"
    }
   },
   "source": [
    "#### Verification - Example\n",
    "\n",
    "**Given:**\n",
    "You have the linear advection PDE\n",
    "$$\n",
    "    u_t + u_x = 0\n",
    "$$\n",
    "and have chosen a numerical method that will solve it theoretically with $\\mathcal{O}(\\Delta x, \\Delta t)$ convergence rate.\n",
    "\n",
    "Verification of a software to solve this would mean that it converges to the true solution of the PDE at the expected rates."
   ]
  },
  {
   "cell_type": "markdown",
   "metadata": {
    "slideshow": {
     "slide_type": "subslide"
    }
   },
   "source": [
    "#### Validation - Example\n",
    "\n",
    "**Given:**\n",
    "You need to compute a prediction of a fluid going down a pipe and have chosen the linear advection PDE to represent the real fluid flow.\n",
    "\n",
    "Validation would entail using your verified software to compare how well the real-world fluid flow behaved."
   ]
  }
 ],
 "metadata": {
  "celltoolbar": "Slideshow",
  "kernelspec": {
   "display_name": "Python 3",
   "language": "python",
   "name": "python3"
  },
  "language_info": {
   "codemirror_mode": {
    "name": "ipython",
    "version": 3
   },
   "file_extension": ".py",
   "mimetype": "text/x-python",
   "name": "python",
   "nbconvert_exporter": "python",
   "pygments_lexer": "ipython3",
   "version": "3.9.7"
  }
 },
 "nbformat": 4,
 "nbformat_minor": 4
}
