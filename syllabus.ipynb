{
 "cells": [
  {
   "cell_type": "markdown",
   "metadata": {},
   "source": [
    "# Methods in Computational Science - APMA 4302 - Syllabus and Course Information"
   ]
  },
  {
   "cell_type": "markdown",
   "metadata": {},
   "source": [
    "\"Far better an approximate answer to the right question, which is often vague, than an exact answer to the wrong question, which can always be made precise.\"\n",
    "\n",
    "John W. Tukey"
   ]
  },
  {
   "cell_type": "markdown",
   "metadata": {
    "slideshow": {
     "slide_type": "slide"
    }
   },
   "source": [
    "## Purpose\n",
    "\n",
    "Introduction to the key concepts and issues in computational science aimed at getting students to a basic level of  understanding where they can run simulations on machines aimed at a range of applications and sizes from a single workstation to modern super-computer hardware.  Topics include but are not limited to basic knowledge of unix shells, version control systems, reproducibility, OpenMP, MPI, and many-core technologies.  Applications will be used throughout to demonstrate the various use cases and pit-falls of using the latest computing hardware."
   ]
  },
  {
   "cell_type": "markdown",
   "metadata": {
    "slideshow": {
     "slide_type": "slide"
    }
   },
   "source": [
    "## Goals and Scope\n"
   ]
  },
  {
   "cell_type": "markdown",
   "metadata": {
    "slideshow": {
     "slide_type": "slide"
    }
   },
   "source": [
    "## Pre-requisites\n",
    "The following subjects will be used extensively so it is best that you have had at least one course in each of the following:\n",
    " - APMA 4300 - Introduction to Numerical Methods or equivalent course\n",
    " - Programming knowledge in a compiled language such as C, C++ or Fortran.\n",
    " - Ideally also APMA 4301 for applications or some other application topic of interest"
   ]
  },
  {
   "cell_type": "markdown",
   "metadata": {
    "slideshow": {
     "slide_type": "slide"
    }
   },
   "source": [
    "## Textbook(s)\n",
    " - Required:  None! - [Course notes are available](http://github.com/mandli/methods-in-computational-science)\n",
    " - References:  Lost of references that are continually being updated, here are a few.\n",
    "   - [Software-Carpentry](https://software-carpentry.org/lessons/)\n",
    "   - [Learn git branching](https://learngitbranching.js.org)\n",
    "   - [git book](http://git-scm.com/book/en/v2)\n",
    "   - [LLNL HPC Tutorials](https://hpc.llnl.gov/training/tutorials)\n",
    "   - [Jeff Hammond's HPC Wiki](https://github.com/jeffhammond/HPCInfo/tree/master/docs)\n",
    "   - [Columbia RCS Wikis](https://confluence.columbia.edu/confluence/display/rcs/RCS+Wiki+Home)\n"
   ]
  },
  {
   "cell_type": "markdown",
   "metadata": {
    "slideshow": {
     "slide_type": "slide"
    }
   },
   "source": [
    "## General Topic Coverage\n",
    "\n",
    "1. Basic elements of scientific computing\n",
    " 1. Shell basics\n",
    " 1. Version control\n",
    " 1. Reproducibility\n",
    " 1. Verification and validation techniques\n",
    " 1. Testing including unit and regression testing\n",
    "1. Hardware\n",
    " 1. Modern computer architecture considerations important to computational science and engineering\n",
    " 1. Basic concepts of parallel computing including communication, file systems, and memory constraints\n",
    "1. Software\n",
    " 1. Effective software design including modularity\n",
    " 1. Inter-core communciation (OpenMP, CUDA)\n",
    " 1. Inter-node communication (MPI)\n",
    " 1. Hybrid computing and load balancing\n",
    "1. HPC Algorithms and Libraries\n",
    " 1. Domain decomposition\n",
    " 1. Graph partitioning\n",
    " 1. BLAS, LAPACK, PETSC, TRILLINOS, LAMMPS\n",
    " \n",
    "Application topics:\n",
    "1. Computational fluid dynamics\n",
    "1. Particle based methods\n",
    "1. Stchocastically driven applications\n",
    "1. Graph and network based computations\n",
    "1. Image analysis\n",
    "1. Machine learning training"
   ]
  },
  {
   "cell_type": "markdown",
   "metadata": {
    "raw_mimetype": "text/html",
    "slideshow": {
     "slide_type": "slide"
    }
   },
   "source": [
    "<table border=\"3\" cellpadding=\"1\" cellspacing=\"1\" width=\"100%\">\n",
    "    <tr>\n",
    "        <th align='center'>Month</th> <th align='center'>Day</th> <th align=\"center\">Lecture</th>  <th align='center'>Topic</th> <th align=\"center\"> Assignments </th>\n",
    "    </tr>\n",
    "    <tr>\n",
    "        <td rowspan=\"6\">September</td> <td>13</td> <td>1</td> <td>Introduction</td> <td rowspan=\"4\">HW 1: Introduction</td>\n",
    "    </tr>\n",
    "    <tr>\n",
    "        <td>15</td> <td>2</td> <td rowspan=\"1\">The Shell</td>\n",
    "    </tr>\n",
    "    <tr>\n",
    "        <td>20</td> <td>3</td> <td rowspan=\"2\">Version Control</td>\n",
    "    </tr>\n",
    "    <tr>\n",
    "        <td>22</td> <td>4</td>\n",
    "    </tr>\n",
    "    <tr>\n",
    "        <td>27</td> <td>5</td> <td rowspan=\"2\">Compilation Tools</td> <td rowspan=\"4\">HW 2: V&V</td>\n",
    "    </tr>\n",
    "    <tr>\n",
    "        <td>29</td> <td>6</td> \n",
    "    </tr>\n",
    "    <tr>\n",
    "        <td rowspan=\"8\">October</td> <td>4</td> <td>7</td> <td>Verification, Validation and Reproducibility</td>\n",
    "    </tr>\n",
    "    <tr>\n",
    "        <td>6</td> <td>8</td> <td rowspan=\"2\">Computer Architecture</td> \n",
    "    </tr>\n",
    "    <tr>\n",
    "        <td>11</td> <td>9</td> <td rowspan=\"4\">HW 3: Theory</td>\n",
    "    </tr>\n",
    "    <tr>\n",
    "        <td>13</td> <td>10</td> <td rowspan=\"2\">Parallel Computing Ideas</td>\n",
    "    </tr>\n",
    "    <tr>\n",
    "        <td>18</td> <td>11</td>\n",
    "    </tr>\n",
    "    <tr>\n",
    "        <td>20</td> <td>12</td> <td rowspan=\"7\">Shared Memory</td>\n",
    "    </tr>\n",
    "    <tr>\n",
    "        <td>25</td> <td>13</td> <td rowspan=\"7\">HW 4: Shared Memory</td>\n",
    "    </tr>\n",
    "    <tr>\n",
    "        <td>27</td> <td>14</td>\n",
    "    </tr>\n",
    "    <tr>\n",
    "       <td rowspan=\"9\">Novemeber</td> <td>1</td> <td>Election Day (no class)</td>\n",
    "    </tr>\n",
    "    <tr>\n",
    "        <td>3</td> <td>15</td>\n",
    "    </tr>\n",
    "    <tr>\n",
    "         <td>8</td> <td>16</td>\n",
    "    </tr>\n",
    "    <tr>\n",
    "        <td>10</td> <td>17</td> \n",
    "    </tr>\n",
    "    <tr>\n",
    "        <td>15</td> <td>18</td> <td rowspan=\"6\">Distributed Memory</td>\n",
    "    </tr>\n",
    "    <tr>\n",
    "        <td>17</td> <td>19</td>  <td rowspan=\"6\">HW 5: Distributed Memory</td>\n",
    "    </tr>\n",
    "    <tr>\n",
    "        <td>22</td> <td>20</td>\n",
    "    </tr>\n",
    "    <tr>\n",
    "        <td>24</td> <td>Thanksgiving (no class)</td>\n",
    "    </tr>\n",
    "    <tr>\n",
    "        <td>29</td> <td>21</td>\n",
    "    </tr>\n",
    "    <tr>\n",
    "        <td rowspan=\"6\">Decemeber</td> <td>1</td> <td>22</td>\n",
    "    </tr>\n",
    "    <tr>\n",
    "         <td>6</td> <td>23</td> <td rowspan=\"1\">Hybrid Parallelism</td>\n",
    "    </tr>\n",
    "    <tr>\n",
    "        <td>8</td> <td>24</td> <td rowspan=\"1\">HPC Libraries</td>  <td rowspan=\"3\">Final Projects</td>\n",
    "    </tr>\n",
    "    <tr>\n",
    "        <td>13</td> <td>25</td>\n",
    "    </tr>\n",
    "</table>"
   ]
  },
  {
   "cell_type": "markdown",
   "metadata": {
    "slideshow": {
     "slide_type": "slide"
    }
   },
   "source": [
    "## Logistics"
   ]
  },
  {
   "cell_type": "markdown",
   "metadata": {
    "slideshow": {
     "slide_type": "slide"
    }
   },
   "source": [
    "### Code of Conduct\n",
    "\n",
    "#### Our Pledge\n",
    "\n",
    "We as members, contributors, and leaders pledge to make participation in our\n",
    "community a harassment-free experience for everyone, regardless of age, body\n",
    "size, visible or invisible disability, ethnicity, sex characteristics, gender\n",
    "identity and expression, level of experience, education, socio-economic status,\n",
    "nationality, personal appearance, race, religion, or sexual identity\n",
    "and orientation.\n",
    "\n",
    "We pledge to act and interact in ways that contribute to an open, welcoming,\n",
    "diverse, inclusive, and healthy community.\n",
    "\n",
    "#### Our Standards\n",
    "\n",
    "Examples of behavior that contributes to a positive environment for our\n",
    "community include:\n",
    "\n",
    "* Demonstrating empathy and kindness toward other people\n",
    "* Being respectful of differing opinions, viewpoints, and experiences\n",
    "* Giving and gracefully accepting constructive feedback\n",
    "* Accepting responsibility and apologizing to those affected by our mistakes,\n",
    "  and learning from the experience\n",
    "* Focusing on what is best not just for us as individuals, but for the\n",
    "  overall community\n",
    "\n",
    "Examples of unacceptable behavior include:\n",
    "\n",
    "* The use of sexualized language or imagery, and sexual attention or\n",
    "  advances of any kind\n",
    "* Trolling, insulting or derogatory comments, and personal or political attacks\n",
    "* Public or private harassment\n",
    "* Publishing others' private information, such as a physical or email\n",
    "  address, without their explicit permission\n",
    "* Other conduct which could reasonably be considered inappropriate in a\n",
    "  professional setting\n",
    "\n",
    "#### Enforcement Responsibilities\n",
    "\n",
    "Community leaders are responsible for clarifying and enforcing our standards of\n",
    "acceptable behavior and will take appropriate and fair corrective action in\n",
    "response to any behavior that they deem inappropriate, threatening, offensive,\n",
    "or harmful.\n",
    "\n",
    "Community leaders have the right and responsibility to remove, edit, or reject\n",
    "comments, commits, code, wiki edits, issues, and other contributions that are\n",
    "not aligned to this Code of Conduct, and will communicate reasons for moderation\n",
    "decisions when appropriate.\n",
    "\n",
    "#### Scope\n",
    "\n",
    "This Code of Conduct applies within all community spaces, and also applies when\n",
    "an individual is officially representing the community in public spaces.\n",
    "Examples of representing our community include using an official e-mail address,\n",
    "posting via an official social media account, or acting as an appointed\n",
    "representative at an online or offline event.\n",
    "\n",
    "#### Enforcement\n",
    "\n",
    "Instances of abusive, harassing, or otherwise unacceptable behavior may be\n",
    "reported to the community leaders responsible for enforcement at\n",
    "[INSERT CONTACT METHOD].\n",
    "All complaints will be reviewed and investigated promptly and fairly.\n",
    "\n",
    "All community leaders are obligated to respect the privacy and security of the\n",
    "reporter of any incident.\n",
    "\n",
    "#### Enforcement Guidelines\n",
    "\n",
    "Community leaders will follow these Community Impact Guidelines in determining\n",
    "the consequences for any action they deem in violation of this Code of Conduct:\n",
    "\n",
    "##### 1. Correction\n",
    "\n",
    "**Community Impact**: Use of inappropriate language or other behavior deemed\n",
    "unprofessional or unwelcome in the community.\n",
    "\n",
    "**Consequence**: A private, written warning from community leaders, providing\n",
    "clarity around the nature of the violation and an explanation of why the\n",
    "behavior was inappropriate. A public apology may be requested.\n",
    "\n",
    "##### 2. Warning\n",
    "\n",
    "**Community Impact**: A violation through a single incident or series\n",
    "of actions.\n",
    "\n",
    "**Consequence**: A warning with consequences for continued behavior. No\n",
    "interaction with the people involved, including unsolicited interaction with\n",
    "those enforcing the Code of Conduct, for a specified period of time. This\n",
    "includes avoiding interactions in community spaces as well as external channels\n",
    "like social media. Violating these terms may lead to a temporary or\n",
    "permanent ban.\n",
    "\n",
    "##### 3. Temporary Ban\n",
    "\n",
    "**Community Impact**: A serious violation of community standards, including\n",
    "sustained inappropriate behavior.\n",
    "\n",
    "**Consequence**: A temporary ban from any sort of interaction or public\n",
    "communication with the community for a specified period of time. No public or\n",
    "private interaction with the people involved, including unsolicited interaction\n",
    "with those enforcing the Code of Conduct, is allowed during this period.\n",
    "Violating these terms may lead to a permanent ban.\n",
    "\n",
    "##### 4. Permanent Ban\n",
    "\n",
    "**Community Impact**: Demonstrating a pattern of violation of community\n",
    "standards, including sustained inappropriate behavior,  harassment of an\n",
    "individual, or aggression toward or disparagement of classes of individuals.\n",
    "\n",
    "**Consequence**: A permanent ban from any sort of public interaction within\n",
    "the community.\n",
    "\n",
    "#### Attribution\n",
    "\n",
    "This Code of Conduct is adapted from the [Contributor Covenant][homepage],\n",
    "version 2.0, available at\n",
    "https://www.contributor-covenant.org/version/2/0/code_of_conduct.html.\n",
    "\n",
    "Community Impact Guidelines were inspired by [Mozilla's code of conduct\n",
    "enforcement ladder](https://github.com/mozilla/diversity).\n",
    "\n",
    "[homepage]: https://www.contributor-covenant.org\n",
    "\n",
    "For answers to common questions about this code of conduct, see the FAQ at\n",
    "https://www.contributor-covenant.org/faq. Translations are available at\n",
    "https://www.contributor-covenant.org/translations.\n"
   ]
  },
  {
   "cell_type": "markdown",
   "metadata": {
    "slideshow": {
     "slide_type": "slide"
    }
   },
   "source": [
    "### Grading\n",
    "\n",
    "The course grade will be composed of two different activities, homework and a final project.  The homework and final project will all be turned in via Courseworks.\n",
    "\n",
    "| Assignments   | Percent Total |\n",
    "|---------------|:-------------:|\n",
    "| Homework      |      50%      |\n",
    "| Final Project |      50%      |\n",
    "\n",
    "#### Collaborative Work\n",
    "\n",
    "Feel free to work together but keep in mind that this course is for your own education.  If you simply copy from someone else you are the one that suffers.\n",
    "\n",
    "#### Late Policy\n",
    "\n",
    "Please do not turn in homework late without letting us know.  If you have a conflict, get sick, etc. just contact us if you can and we can work something out.\n",
    "\n",
    "#### Final Projects\n",
    "\n",
    "A final project, which can be done in pairs, will be required at the end of the semester.  You will be expected to turn in a written report approximately 10 pages long and give a short presentation at the end of the semester, which will be delivered via zoom.  Details will be forthcoming."
   ]
  },
  {
   "cell_type": "markdown",
   "metadata": {
    "slideshow": {
     "slide_type": "slide"
    }
   },
   "source": [
    "### Contact Info\n",
    "\n",
    "Any topic related questions should be sent to our class discussion board:\n",
    "\n",
    "\n",
    "\n",
    "Logistics and grading questions can be sent to the instructors.\n",
    "\n",
    "| Person            | Photo                                              | Email                   | Phone          |Office Hours |\n",
    "|-------------------|-------------------------------------------------|-------------------------|----------------|-------------|\n",
    "| Prof. Kyle Mandli | ![Kyle Mandli](./images/mandli_small.png)                                          |kyle.mandli@columbia.edu | (212) 854-4485 | TBA, Zoom |\n"
   ]
  }
 ],
 "metadata": {
  "kernelspec": {
   "display_name": "Python 3",
   "language": "python",
   "name": "python3"
  },
  "language_info": {
   "codemirror_mode": {
    "name": "ipython",
    "version": 3
   },
   "file_extension": ".py",
   "mimetype": "text/x-python",
   "name": "python",
   "nbconvert_exporter": "python",
   "pygments_lexer": "ipython3",
   "version": "3.9.6"
  },
  "latex_envs": {
   "bibliofile": "biblio.bib",
   "cite_by": "apalike",
   "current_citInitial": 1,
   "eqLabelWithNumbers": true,
   "eqNumInitial": 0
  }
 },
 "nbformat": 4,
 "nbformat_minor": 2
}
