{
 "cells": [
  {
   "cell_type": "markdown",
   "metadata": {
    "slideshow": {
     "slide_type": "slide"
    }
   },
   "source": [
    "# Computational Science Libraries"
   ]
  },
  {
   "cell_type": "markdown",
   "metadata": {
    "slideshow": {
     "slide_type": "slide"
    }
   },
   "source": [
    "## Basic Linear Algebra Libraries"
   ]
  },
  {
   "cell_type": "markdown",
   "metadata": {
    "slideshow": {
     "slide_type": "subslide"
    }
   },
   "source": [
    "### [BLAS](http://www.netlib.org/blas/)\n",
    " - Types of routines are broken into levels:\n",
    "     - Level 1: vector x vector, other basic operations `DDOT`\n",
    "     - Level 2: matrix x vector `DGEMV`\n",
    "     - Level 3: matrix x matrix `DGEMM`\n",
    " - [Implementations](https://en.wikipedia.org/wiki/Basic_Linear_Algebra_Subprograms#Implementations)\n",
    "   - Notable are auto-tuned (ATLAS) and hand-tuned (e.g. Goto)\n",
    " - Routine naming scheme includes type of data (single, double, complex) and operation"
   ]
  },
  {
   "cell_type": "markdown",
   "metadata": {
    "slideshow": {
     "slide_type": "subslide"
    }
   },
   "source": [
    "### [LAPACK](http://www.netlib.org/lapack/)\n",
    "\n",
    " - Solve $Ax = b$, $A^T A x = A^T b$, $A v = \\lambda v$ and $A = U \\Sigma V^\\ast$.\n",
    " - [Explore basic functions](http://www.netlib.org/lapack/explore-html/)\n",
    " - Basic structure:\n",
    "   1. Drivers\n",
    "   2. Computational\n",
    "   3. Auxiliary \n",
    " - Naming is similar to BLAS (single, double, complex, ...)\n",
    " "
   ]
  },
  {
   "cell_type": "markdown",
   "metadata": {
    "slideshow": {
     "slide_type": "slide"
    }
   },
   "source": [
    "### Advanced Linear Algebra\n",
    "\n",
    "Special built libraries that have performance in mind."
   ]
  },
  {
   "cell_type": "markdown",
   "metadata": {
    "slideshow": {
     "slide_type": "subslide"
    }
   },
   "source": [
    "#### [BLIS and libFLAME](http://shpc.oden.utexas.edu/software.html)\n",
    "\n",
    " - BLIS - BLAS replacement\n",
    " - libFLAME - LAPACK replacement\n",
    " - Elemental - Dense and sparse-direct linear algebra\n",
    " - ..."
   ]
  },
  {
   "cell_type": "markdown",
   "metadata": {
    "slideshow": {
     "slide_type": "subslide"
    }
   },
   "source": [
    "#### [MAGMA](http://icl.cs.utk.edu/magma/)\n",
    "\n",
    "![MAGMA Scaling](figures/libraries/magma_performance.png)\n",
    "\n",
    "*[From MAGMA SC2020 handout](https://www.icl.utk.edu/files/print/2020/magma-sc20.pdf)*"
   ]
  },
  {
   "cell_type": "markdown",
   "metadata": {
    "slideshow": {
     "slide_type": "slide"
    }
   },
   "source": [
    "## Fourier Transform"
   ]
  },
  {
   "cell_type": "markdown",
   "metadata": {
    "slideshow": {
     "slide_type": "subslide"
    }
   },
   "source": [
    "### [Fastest Fourier Transform in the West (FFTW)](http://fftw.org)\n",
    "```C\n",
    "#include <fftw3.h>\n",
    "...\n",
    "{\n",
    "    fftw_complex *in, *out;\n",
    "    fftw_plan p;\n",
    "    ...\n",
    "    in = (fftw_complex*) fftw_malloc(sizeof(fftw_complex) * N);\n",
    "    out = (fftw_complex*) fftw_malloc(sizeof(fftw_complex) * N);\n",
    "    p = fftw_plan_dft_1d(N, in, out, FFTW_FORWARD, FFTW_ESTIMATE);\n",
    "    ...\n",
    "    fftw_execute(p); /* repeat as needed */\n",
    "    ...\n",
    "    fftw_destroy_plan(p);\n",
    "    fftw_free(in); fftw_free(out);\n",
    "}\n",
    "```"
   ]
  },
  {
   "cell_type": "markdown",
   "metadata": {
    "slideshow": {
     "slide_type": "subslide"
    }
   },
   "source": [
    "### [CUFFT - CUDA Fast Fourier Transform](https://docs.nvidia.com/cuda/cufft/index.html)\n",
    " \n",
    "```C\n",
    "#define NX 256\n",
    "#define BATCH 10\n",
    "#define RANK 1\n",
    "...\n",
    "{\n",
    "    cufftHandle plan;\n",
    "    cufftComplex *data;\n",
    "    ...\n",
    "    cudaMalloc((void**)&data, sizeof(cufftComplex)*NX*BATCH);\n",
    "    cufftPlanMany(&plan, RANK, NX, &iembed, istride, idist, \n",
    "        &oembed, ostride, odist, CUFFT_C2C, BATCH);\n",
    "    ...\n",
    "    cufftExecC2C(plan, data, data, CUFFT_FORWARD);\n",
    "    cudaDeviceSynchronize();\n",
    "    ...\n",
    "    cufftDestroy(plan);\n",
    "    cudaFree(data);\n",
    "}\n",
    "```"
   ]
  },
  {
   "cell_type": "markdown",
   "metadata": {
    "slideshow": {
     "slide_type": "slide"
    }
   },
   "source": [
    "## Large DoE Codes"
   ]
  },
  {
   "cell_type": "markdown",
   "metadata": {
    "slideshow": {
     "slide_type": "subslide"
    }
   },
   "source": [
    "### PETSc - Portable, Extensible Toolkit for Scientific Computation\n",
    "\n",
    "Contains:\n",
    " - [Linear solvers (KSP)](https://www.mcs.anl.gov/petsc/documentation/linearsolvertable.html)\n",
    "   - Preconditioners\n",
    "   - Krylov subspace methods\n",
    " - [Nonlinear solvers (SNES](https://www.mcs.anl.gov/petsc/documentation/nonlinearsolvertable.html)\n",
    "   - Multigrid\n",
    "   - Matrix-free nonlinear solvers\n",
    " - [Time steppers (ODE solvers)](https://www.mcs.anl.gov/petsc/petsc-current/docs/manualpages/TS/index.html)\n",
    "   - Sensitivity analysis\n",
    "   - Method of characteristics\n",
    " - [Optimization solvers (Tao)](https://www.mcs.anl.gov/petsc/documentation/taosolvertable.html)"
   ]
  },
  {
   "cell_type": "markdown",
   "metadata": {
    "slideshow": {
     "slide_type": "subslide"
    }
   },
   "source": [
    "![PETSc Diagram](figures/libraries/petsc_diagram.png)\n",
    "\n",
    "*[From PETSc webpage](https://www.mcs.anl.gov/petsc/features/diagram.html)*"
   ]
  },
  {
   "cell_type": "markdown",
   "metadata": {
    "slideshow": {
     "slide_type": "subslide"
    }
   },
   "source": [
    "### [Trilinos](https://trilinos.github.io)\n",
    "\n",
    "A string of pearls"
   ]
  },
  {
   "cell_type": "markdown",
   "metadata": {
    "slideshow": {
     "slide_type": "subslide"
    }
   },
   "source": [
    "### [Trilinos](https://trilinos.github.io)\n",
    "\n",
    "Contains:\n",
    " - [Linear solvers](https://trilinos.github.io/linear_solver.html)\n",
    " - [Nonlinear solvers](https://trilinos.github.io/nonlinear_solver.html)\n",
    " - Transient solvers (ODE solvers)\n",
    " - Optimization solvers\n",
    " - Uncertainty quantification (UQ) solvers\n",
    " - [Discretizations](https://trilinos.github.io/discretizations.html)\n",
    " "
   ]
  },
  {
   "cell_type": "markdown",
   "metadata": {
    "slideshow": {
     "slide_type": "subslide"
    }
   },
   "source": [
    "#### Trilinos - Diagram\n",
    "\n",
    "![Trilinos Package Diagram](figures/libraries/trilinos_diagram.png)\n",
    "*[From Trilinos overview document](https://trilinos.github.io/pdfs/TrilinosOverview.pdf)*"
   ]
  },
  {
   "cell_type": "markdown",
   "metadata": {
    "slideshow": {
     "slide_type": "slide"
    }
   },
   "source": [
    "## PDE Solvers"
   ]
  },
  {
   "cell_type": "markdown",
   "metadata": {
    "slideshow": {
     "slide_type": "subslide"
    }
   },
   "source": [
    "### [FEniCS](https://fenicsproject.org)\n",
    "\n",
    "Finite element package written in C++ with python interface\n",
    "\n",
    "This\n",
    "$$\n",
    "    \\int_\\Omega \\nabla u : \\nabla v dx - \\int_\\Omega p \\nabla \\cdot u q dx = \\int_\\Omega f \\cdot v dx\n",
    "$$\n",
    "becomes\n",
    "```python\n",
    "# Define function space\n",
    "P2 = VectorElement('P', tetrahedron, 2)\n",
    "P1 = FiniteElement('P', tetrahedron, 1)\n",
    "TH = P2 * P1\n",
    "W = FunctionSpace(mesh, TH)\n",
    " \n",
    "# Define variational problem\n",
    "(u, p) = TrialFunctions(W)\n",
    "(v, q) = TestFunctions(W)\n",
    "a = inner(grad(u), grad(v))*dx - p*div(v)*dx + div(u)*q*dx\n",
    "L = dot(f, v)*dx\n",
    " \n",
    "# Compute solution\n",
    "w = Function(W)\n",
    "solve(a == L, w, [bc1, bc0])\n",
    "```"
   ]
  },
  {
   "cell_type": "markdown",
   "metadata": {
    "slideshow": {
     "slide_type": "subslide"
    }
   },
   "source": [
    "### [Fire Drake](https://firedrakeproject.org)\n",
    "\n",
    "Finite element package written in C++ with python interface\n",
    "\n",
    "Arguably a shoot-off of the FEniCS project...\n",
    "\n",
    "[code example](https://firedrakeproject.org/demos/helmholtz.py.html)"
   ]
  },
  {
   "cell_type": "markdown",
   "metadata": {
    "slideshow": {
     "slide_type": "subslide"
    }
   },
   "source": [
    "### [Deal.II](https://www.dealii.org)\n",
    "\n",
    "Finite element package written in C++ with C++ interface\n",
    "  - Attaches to PETSc, trilinos and many other solvers and has its own\n",
    "  - Very portable\n",
    "\n",
    "[Tutorial](https://dealii.org/developer/doxygen/deal.II/Tutorial.html)\n",
    "[code example](https://dealii.org/developer/doxygen/deal.II/code_gallery_cdr.html)"
   ]
  },
  {
   "cell_type": "markdown",
   "metadata": {
    "slideshow": {
     "slide_type": "subslide"
    }
   },
   "source": [
    "### [PyClaw](http://www.clawpack.org/pyclaw/index.html)\n",
    "\n",
    "Finite volume package written in Fortran, C, C++ with python interface\n",
    "  - Uses PETSc for parallelization\n",
    "  \n",
    "```python\n",
    "from clawpack.pyclaw import examples\n",
    "claw = examples.shock_bubble_interaction.setup()\n",
    "claw.run()\n",
    "claw.plot()\n",
    "```"
   ]
  },
  {
   "cell_type": "markdown",
   "metadata": {
    "slideshow": {
     "slide_type": "subslide"
    }
   },
   "source": [
    "### [ExaHyPe](http://www.peano-framework.org/index.php/exahype/)\n",
    "\n",
    "Exascale Hyperbolic PDE solver\n",
    "\n",
    "[Exaclaw](http://www.peano-framework.org/index.php/projects/exaclaw-clawpack-enabled-exahype-for-heterogeneous-hardware/)"
   ]
  }
 ],
 "metadata": {
  "celltoolbar": "Slideshow",
  "kernelspec": {
   "display_name": "Python 3",
   "language": "python",
   "name": "python3"
  },
  "language_info": {
   "codemirror_mode": {
    "name": "ipython",
    "version": 3
   },
   "file_extension": ".py",
   "mimetype": "text/x-python",
   "name": "python",
   "nbconvert_exporter": "python",
   "pygments_lexer": "ipython3",
   "version": "3.9.0"
  }
 },
 "nbformat": 4,
 "nbformat_minor": 2
}
