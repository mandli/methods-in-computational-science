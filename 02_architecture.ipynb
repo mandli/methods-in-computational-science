{
 "cells": [
  {
   "cell_type": "markdown",
   "metadata": {
    "slideshow": {
     "slide_type": "skip"
    }
   },
   "source": [
    "<table>\n",
    " <tr align=left><td><img align=left src=\"https://i.creativecommons.org/l/by/4.0/88x31.png\">\n",
    " <td>Text provided under a Creative Commons Attribution license, CC-BY. All code is made available under the FSF-approved MIT license. (c) Kyle T. Mandli</td>\n",
    "</table>"
   ]
  },
  {
   "cell_type": "code",
   "execution_count": null,
   "metadata": {
    "slideshow": {
     "slide_type": "skip"
    }
   },
   "outputs": [],
   "source": [
    "from __future__ import print_function\n",
    "%matplotlib inline\n",
    "import numpy\n",
    "import matplotlib.pyplot as plt"
   ]
  },
  {
   "cell_type": "markdown",
   "metadata": {
    "slideshow": {
     "slide_type": "slide"
    }
   },
   "source": [
    "# Basic Computer Architecture and Parallel Computing"
   ]
  },
  {
   "cell_type": "markdown",
   "metadata": {
    "slideshow": {
     "slide_type": "subslide"
    }
   },
   "source": [
    "## Operations\n",
    "\n",
    " - Floating Point Operations\n",
    " - Memory Operations\n",
    " - Computational Intensity"
   ]
  },
  {
   "cell_type": "markdown",
   "metadata": {
    "slideshow": {
     "slide_type": "slide"
    }
   },
   "source": [
    "## Memory Layout\n",
    "\n",
    " - Layout\n",
    " - Different types of memory\n",
    " - Buses \n",
    "\n",
    "### Caches\n",
    " - hits and misses"
   ]
  },
  {
   "cell_type": "markdown",
   "metadata": {
    "slideshow": {
     "slide_type": "slide"
    }
   },
   "source": [
    "## Classifications and Principles"
   ]
  },
  {
   "cell_type": "markdown",
   "metadata": {
    "slideshow": {
     "slide_type": "slide"
    }
   },
   "source": [
    "### Flynn's Taxonomy\n",
    "\n",
    " - **SISD** **<span style=\"color:red\">S</style>**ingle **<span style=\"color:red\">I</span>**nstruction, **<span style=\"color:red\">S</style>**ingle **<span style=\"color:red\">D</style>**ata - Convential sequential model of computing\n",
    " - **SIMD** **<span style=\"color:red\">S</style>**ingle **<span style=\"color:red\">I</style>**nstruction, **<span style=\"color:red\">M</style>**ultiple **<span style=\"color:red\">D</style>**ata - Multiple processing units with identical instructions working on different data.\n",
    " - **MIMD** **<span style=\"color:red\">M</style>**ultiple **<span style=\"color:red\">I</style>**nstruction, **<span style=\"color:red\">M</style>**ultiple **<span style=\"color:red\">D</style>**ata - Multiple instructions but multiple pieces of data.  This is the common situation for parallel processing.\n",
    " - **MISD** **<span style=\"color:red\">M</style>**ultiple **<span style=\"color:red\">I</style>**nstruction, **<span style=\"color:red\">S</style>**ingle **<span style=\"color:red\">D</style>**ata - This would be nice from an arithmetic intensity perspective."
   ]
  },
  {
   "cell_type": "markdown",
   "metadata": {
    "slideshow": {
     "slide_type": "slide"
    }
   },
   "source": [
    "### Moore's Law\n",
    "\n",
    "In 1965, Gordon Moore (co-founder of Intel) predicted that the transistor density (and hence the speed) of chips would double every 18 months for the forseeable future. This is know as Moore’s law This proved remarkably accurate for more than 40 years, see the graphs at. Note that doubling every 18 months means an increase by a factor of 4096 every 14 years.\n",
    "\n",
    "![image](./figures/moore/moore.jpg)"
   ]
  },
  {
   "cell_type": "markdown",
   "metadata": {
    "slideshow": {
     "slide_type": "slide"
    }
   },
   "source": [
    "![image](./figures/moore/transistor_count.png)"
   ]
  },
  {
   "cell_type": "markdown",
   "metadata": {
    "slideshow": {
     "slide_type": "subslide"
    }
   },
   "source": [
    "### Is Moore's Law Doomed?\n",
    "\n",
    "![image](./figures/moore/moores_law.png)\n",
    "*Steve Jurvetson - Wikipedia Commons - https://www.flickr.com/photos/jurvetson/31409423572/*"
   ]
  },
  {
   "cell_type": "markdown",
   "metadata": {},
   "source": [
    "### Is Moore's Law Doomed?\n",
    "\n",
    "![image](./figures/moore/Moores_Law_1971-2016.png)"
   ]
  },
  {
   "cell_type": "markdown",
   "metadata": {
    "slideshow": {
     "slide_type": "slide"
    }
   },
   "source": [
    "### Amdahl's Law\n",
    "\n",
    "Suppose that you can seperate your program into two parts, the serial $s$ and parallel $1-s$.  We can define the speedup of adding $p$ additional processes to a problem by\n",
    "$$\n",
    "S(p) \\equiv \\frac{\\text{time}(1 \\text{ process})}{\\text{time}(p \\text{ processes})}.\n",
    "$$\n",
    "\n",
    "Amdahl's Law helps us to understand the limits to our efforts to parallelize a given algorithm by stating\n",
    "$$\n",
    "S(p)\\leq \\frac{1}{s + \\frac{1 - s}{p}} \\leq \\frac{1}{s}.\n",
    "$$\n",
    "Note that this implies naturally that\n",
    "$$\n",
    "    \\lim_{p \\rightarrow \\infty} S(p) = \\frac{1}{s}\n",
    "$$"
   ]
  },
  {
   "cell_type": "code",
   "execution_count": null,
   "metadata": {
    "slideshow": {
     "slide_type": "skip"
    }
   },
   "outputs": [],
   "source": [
    "p = numpy.logspace(0, 16, 32, base=2)\n",
    "fig = plt.figure()\n",
    "fig.set_figwidth(fig.get_figwidth() * 2)\n",
    "axes = fig.add_subplot(1,2,1)\n",
    "for (i, s) in enumerate([0.5, 0.75, 0.90, 0.95]):\n",
    "    axes.semilogx(p, 1 / (s + (1 - s) / p), label=\"s = %s\" % s)\n",
    "axes.set_title(\"\")\n",
    "axes.set_xlim([1.0, p[-1]])\n",
    "axes.set_ylim([1.0, 2.3])\n",
    "axes.set_xlabel(r\"Number of Processes $p$\")\n",
    "axes.set_ylabel(r\"Speed Up $S$\")\n",
    "axes.legend()\n",
    "\n",
    "axes = fig.add_subplot(1,2,2)\n",
    "for (i, s) in enumerate([0.5, 0.75, 0.90, 0.95]):\n",
    "    axes.semilogx(p, 1 / (s + (1 - s) / p), label=\"s = %s\" % s)\n",
    "\n",
    "axes.set_title(\"\")\n",
    "axes.set_xlim([1.0, p[-1]])\n",
    "axes.set_ylim([1.0, 2.3])\n",
    "axes.set_xlabel(r\"Number of Processes $p$\")\n",
    "axes.set_ylabel(r\"Speed Up $S$\")\n",
    "axes.legend()\n",
    "\n",
    "plt.show()"
   ]
  },
  {
   "cell_type": "markdown",
   "metadata": {
    "slideshow": {
     "slide_type": "slide"
    }
   },
   "source": [
    "## Threads vs. Processes"
   ]
  },
  {
   "cell_type": "markdown",
   "metadata": {
    "slideshow": {
     "slide_type": "slide"
    }
   },
   "source": [
    "## Task vs. Data Parallelism"
   ]
  },
  {
   "cell_type": "markdown",
   "metadata": {
    "slideshow": {
     "slide_type": "slide"
    }
   },
   "source": [
    "## Partitioning and Load Balancing"
   ]
  },
  {
   "cell_type": "markdown",
   "metadata": {
    "slideshow": {
     "slide_type": "slide"
    }
   },
   "source": [
    "## Scalability"
   ]
  },
  {
   "cell_type": "markdown",
   "metadata": {
    "slideshow": {
     "slide_type": "subslide"
    }
   },
   "source": [
    "### Strong Scaling\n",
    "\n",
    "Blah"
   ]
  },
  {
   "cell_type": "markdown",
   "metadata": {
    "slideshow": {
     "slide_type": "subslide"
    }
   },
   "source": [
    "### Strong Scaling\n",
    "\n",
    "![image](figures/scaling/strong_scaling_1.png)"
   ]
  },
  {
   "cell_type": "markdown",
   "metadata": {
    "slideshow": {
     "slide_type": "subslide"
    }
   },
   "source": [
    "### Strong Scaling\n",
    "\n",
    "![image](figures/scaling/strong_scaling_2.png)"
   ]
  },
  {
   "cell_type": "markdown",
   "metadata": {
    "slideshow": {
     "slide_type": "subslide"
    }
   },
   "source": [
    "### Strong Scaling\n",
    "\n",
    "![image](figures/scaling/strong_scaling_3.png)"
   ]
  },
  {
   "cell_type": "markdown",
   "metadata": {
    "slideshow": {
     "slide_type": "subslide"
    }
   },
   "source": [
    "### Weak Scaling\n",
    "\n",
    "<img align=center  width=250 src=\"figures/scaling/weak_scaling_1.png\">"
   ]
  },
  {
   "cell_type": "markdown",
   "metadata": {
    "slideshow": {
     "slide_type": "subslide"
    }
   },
   "source": [
    "### Weak Scaling\n",
    "\n",
    "<img align=center  width=250 src=\"figures/scaling/weak_scaling_2.png\">\n",
    "<img align=center  width=250 src=\"figures/scaling/weak_scaling_3.jpg\">"
   ]
  },
  {
   "cell_type": "code",
   "execution_count": null,
   "metadata": {
    "slideshow": {
     "slide_type": "skip"
    }
   },
   "outputs": [],
   "source": [
    "p = numpy.logspace(0, 16, 32, base=2)\n",
    "\n",
    "fig = plt.figure()\n",
    "fig.set_figwidth(fig.get_figwidth() * 2)\n",
    "\n",
    "axes = fig.add_subplot(1, 2, 1)\n",
    "work = numpy.ones(32)\n",
    "axes.semilogx(p, work / p)\n",
    "axes.set_title(\"Strong Scalability\")\n",
    "axes.set_xlabel(\"Processes\")\n",
    "axes.set_ylabel(\"Time (Normalized)\")\n",
    "\n",
    "axes = fig.add_subplot(1, 2, 2)\n",
    "work = p\n",
    "axes.semilogx(p, work / p)\n",
    "axes.set_title(\"Weak Scalability\")\n",
    "axes.set_xlabel(\"Processes\")\n",
    "axes.set_ylabel(\"Time (Normalized)\")\n",
    "\n",
    "plt.show()"
   ]
  },
  {
   "cell_type": "markdown",
   "metadata": {
    "slideshow": {
     "slide_type": "slide"
    }
   },
   "source": [
    "## Models"
   ]
  },
  {
   "cell_type": "markdown",
   "metadata": {
    "slideshow": {
     "slide_type": "subslide"
    }
   },
   "source": [
    "### Roof-line Model\n",
    "![image](./figures/roofline.png)\n",
    "*Giu.natale - Wikipedia Commons*"
   ]
  },
  {
   "cell_type": "code",
   "execution_count": null,
   "metadata": {
    "slideshow": {
     "slide_type": "skip"
    }
   },
   "outputs": [],
   "source": [
    "memory_bound = lambda x: m * x + b\n",
    "compute_bound = lambda x: b\n",
    "\n",
    "def memory_bound(band_width):\n",
    "    return 0\n",
    "\n",
    "def compute_bound(clock_speed):\n",
    "    return 0\n",
    "\n",
    "def roofline_model(intensity):\n",
    "    \n",
    "    return None\n",
    "\n"
   ]
  },
  {
   "cell_type": "markdown",
   "metadata": {
    "slideshow": {
     "slide_type": "slide"
    }
   },
   "source": [
    "## Machine Architecture Considerations\n",
    "\n",
    "Before we can talk about performance we need to understand a bit about modern computing architectures.  Note that this glossing over a lot of important details as we will focus on only the details that we will specifically deal with."
   ]
  },
  {
   "cell_type": "markdown",
   "metadata": {
    "slideshow": {
     "slide_type": "subslide"
    }
   },
   "source": [
    "### Von Neumann Architecture\n",
    "![image](./figures/vonneumann_architecture.png)\n",
    "*Kapooht - Wikipedia Commons*"
   ]
  },
  {
   "cell_type": "markdown",
   "metadata": {
    "slideshow": {
     "slide_type": "subslide"
    }
   },
   "source": [
    "### Instruction Pipeline\n",
    "![image](./figures/pipeline_1.png)\n",
    "*Cburnett - Wikipedia Commons*"
   ]
  },
  {
   "cell_type": "markdown",
   "metadata": {},
   "source": [
    "![image](./figures/Memory-Hierarchy.jpg)"
   ]
  },
  {
   "cell_type": "markdown",
   "metadata": {
    "slideshow": {
     "slide_type": "subslide"
    }
   },
   "source": [
    "![image](./figures/memory_architecture.png)"
   ]
  },
  {
   "cell_type": "markdown",
   "metadata": {
    "slideshow": {
     "slide_type": "subslide"
    }
   },
   "source": [
    "### Current Performance Bottlenecks\n",
    "\n",
    " - Transistors can no longer be packed more densely in a single core\n",
    " - Memory is really the bottleneck\n",
    " - Hard limit due to the speed of light\n",
    " - Power consumption and therefore heat dissipation\n",
    " \n",
    "### Solutions?\n",
    " - Many-core technologies\n",
    " - Memory hierarchies\n",
    " - Algorithms that take into account these limitations"
   ]
  },
  {
   "cell_type": "markdown",
   "metadata": {
    "slideshow": {
     "slide_type": "subslide"
    }
   },
   "source": [
    "![image](./figures/memory_single_core.png)"
   ]
  },
  {
   "cell_type": "markdown",
   "metadata": {
    "slideshow": {
     "slide_type": "subslide"
    }
   },
   "source": [
    "![image](./figures/pipeline_2.png)\n",
    "*Cburnett - Wikipedia Commons*"
   ]
  },
  {
   "cell_type": "markdown",
   "metadata": {
    "slideshow": {
     "slide_type": "subslide"
    }
   },
   "source": [
    "### Many-Core Architectures\n",
    "\n",
    "![image](./figures/gpu/kepler_arch.png)"
   ]
  },
  {
   "cell_type": "markdown",
   "metadata": {
    "slideshow": {
     "slide_type": "subslide"
    }
   },
   "source": [
    "![image](./figures/gpu/kepler_smx.png)\n",
    "*NVIDIA - Kepler GK110/210 White Paper - http://images.nvidia.com/content/pdf/tesla/NVIDIA-Kepler-GK110-GK210-Architecture-Whitepaper.pdf*"
   ]
  }
 ],
 "metadata": {
  "celltoolbar": "Slideshow",
  "kernelspec": {
   "display_name": "Python 3",
   "language": "python",
   "name": "python3"
  },
  "language_info": {
   "codemirror_mode": {
    "name": "ipython",
    "version": 3
   },
   "file_extension": ".py",
   "mimetype": "text/x-python",
   "name": "python",
   "nbconvert_exporter": "python",
   "pygments_lexer": "ipython3",
   "version": "3.9.7"
  }
 },
 "nbformat": 4,
 "nbformat_minor": 4
}
